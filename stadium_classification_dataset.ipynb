{
 "cells": [
  {
   "cell_type": "code",
   "execution_count": 9,
   "metadata": {},
   "outputs": [],
   "source": [
    "import pandas as pd\n",
    "import numpy as np\n",
    "import wfdb\n",
    "import ast"
   ]
  },
  {
   "cell_type": "code",
   "execution_count": 10,
   "metadata": {},
   "outputs": [],
   "source": [
    "def load_raw_data(df, sampling_rate, path):\n",
    "    if sampling_rate == 100:\n",
    "        data = [wfdb.rdsamp(path+f) for f in df.filename_lr]\n",
    "    else:\n",
    "        data = [wfdb.rdsamp(path+f) for f in df.filename_hr]\n",
    "    data = np.array([signal for signal, meta in data])\n",
    "    return data\n",
    "\n",
    "path = '~/Desktop/ptb-xl-a-large-publicly-available-electrocardiography-dataset-1.0.3/'\n",
    "sampling_rate=100"
   ]
  },
  {
   "cell_type": "code",
   "execution_count": 11,
   "metadata": {},
   "outputs": [],
   "source": [
    "# load and convert annotation data\n",
    "Y = pd.read_csv(path+'ptbxl_database.csv', index_col='ecg_id')\n",
    "Y.scp_codes = Y.scp_codes.apply(lambda x: ast.literal_eval(x))"
   ]
  },
  {
   "cell_type": "code",
   "execution_count": 12,
   "metadata": {},
   "outputs": [],
   "source": [
    "# Load scp_statements.csv for diagnostic aggregation\n",
    "agg_df = pd.read_csv(path+'scp_statements.csv', index_col=0)\n",
    "agg_df = agg_df[agg_df.diagnostic == 1]"
   ]
  },
  {
   "cell_type": "code",
   "execution_count": 13,
   "metadata": {},
   "outputs": [],
   "source": [
    "def aggregate_diagnostic(y_dic):\n",
    "    tmp = []\n",
    "    for key in y_dic.keys():\n",
    "        if key in agg_df.index:\n",
    "            tmp.append(agg_df.loc[key].diagnostic_class)\n",
    "    return list(set(tmp))"
   ]
  },
  {
   "cell_type": "code",
   "execution_count": 14,
   "metadata": {},
   "outputs": [],
   "source": [
    "# Apply diagnostic superclass\n",
    "Y['diagnostic_superclass'] = Y.scp_codes.apply(aggregate_diagnostic)"
   ]
  },
  {
   "cell_type": "code",
   "execution_count": 15,
   "metadata": {},
   "outputs": [
    {
     "name": "stdout",
     "output_type": "stream",
     "text": [
      "diagnostic_superclass\n",
      "[NORM]                 9069\n",
      "[MI]                   2532\n",
      "[STTC]                 2400\n",
      "[CD]                   1708\n",
      "[MI, CD]               1297\n",
      "[HYP, STTC]             781\n",
      "[MI, STTC]              599\n",
      "[HYP]                   535\n",
      "[STTC, CD]              471\n",
      "[]                      411\n",
      "[NORM, CD]              407\n",
      "[MI, HYP, STTC]         340\n",
      "[HYP, CD]               300\n",
      "[MI, STTC, CD]          223\n",
      "[MI, HYP]               183\n",
      "[MI, HYP, CD]           117\n",
      "[CD, MI, HYP, STTC]      93\n",
      "[CD, HYP, STTC]          89\n",
      "[STTC, HYP, CD]          67\n",
      "[HYP, STTC, CD]          55\n",
      "[STTC, MI, HYP, CD]      48\n",
      "[NORM, STTC]             28\n",
      "[HYP, MI, STTC]          21\n",
      "[HYP, MI, STTC, CD]      15\n",
      "[NORM, STTC, CD]          5\n",
      "[NORM, HYP, CD]           2\n",
      "[NORM, HYP]               2\n",
      "[NORM, MI, HYP, CD]       1\n",
      "Name: count, dtype: int64\n"
     ]
    }
   ],
   "source": [
    "print(Y['diagnostic_superclass'].value_counts())"
   ]
  },
  {
   "cell_type": "code",
   "execution_count": null,
   "metadata": {},
   "outputs": [],
   "source": [
    "# Convert each class to its own label\n",
    "diseases = ['NORM', 'MI', 'STTC', 'CD', 'HYP']\n",
    "#Y['diagnostic_superclass'] = Y['diagnostic_superclass'].str.strip('[]').str.split(', ')\n",
    "\n",
    "for disease in diseases:\n",
    "    Y[disease] = Y['diagnostic_superclass'].apply(lambda x: 1 if disease in x else 0)\n",
    "\n",
    "# Create the NORM column, excluding NORM from the calculation\n",
    "Y['AD'] = Y[diseases[1:]].sum(axis=1).apply(lambda x: 1 if x == 0 else 0)"
   ]
  },
  {
   "cell_type": "code",
   "execution_count": 23,
   "metadata": {},
   "outputs": [
    {
     "name": "stdout",
     "output_type": "stream",
     "text": [
      "MI      5469\n",
      "STTC    5235\n",
      "CD      4898\n",
      "HYP     2649\n",
      "AD      9480\n",
      "dtype: int64\n"
     ]
    }
   ],
   "source": [
    "label_counts = Y[['MI', 'STTC', 'CD', 'HYP', 'AD']].sum()\n",
    "print(label_counts)"
   ]
  },
  {
   "cell_type": "code",
   "execution_count": 26,
   "metadata": {},
   "outputs": [],
   "source": [
    "Y.to_json('./updated_ptbxl_database.json')"
   ]
  }
 ],
 "metadata": {
  "kernelspec": {
   "display_name": "datascience",
   "language": "python",
   "name": "python3"
  },
  "language_info": {
   "codemirror_mode": {
    "name": "ipython",
    "version": 3
   },
   "file_extension": ".py",
   "mimetype": "text/x-python",
   "name": "python",
   "nbconvert_exporter": "python",
   "pygments_lexer": "ipython3",
   "version": "3.11.10"
  }
 },
 "nbformat": 4,
 "nbformat_minor": 2
}
